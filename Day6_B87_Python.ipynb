{
 "cells": [
  {
   "cell_type": "code",
   "execution_count": null,
   "id": "2c3f5a76-4182-4b9e-aaf1-56d2bf0dca81",
   "metadata": {},
   "outputs": [],
   "source": [
    "Introduction to Dictionaries :"
   ]
  },
  {
   "cell_type": "code",
   "execution_count": null,
   "id": "7f36878c-ef28-4111-a0e8-0999335ae00c",
   "metadata": {},
   "outputs": [],
   "source": [
    "Definition : A Dictionary is a combination of key, value pairs.\n",
    "Classification : It is classified as a mutable datatype.\n",
    "how to define dictionary : () # curly brackets/ flower brackets"
   ]
  },
  {
   "cell_type": "code",
   "execution_count": null,
   "id": "60da4873-8d61-4743-9584-1f336913415d",
   "metadata": {},
   "outputs": [],
   "source": [
    "# req : Want to design a alien game."
   ]
  },
  {
   "cell_type": "code",
   "execution_count": 2,
   "id": "cf304c74-eb47-4c41-85f5-9e41340bdfcb",
   "metadata": {},
   "outputs": [
    {
     "name": "stdout",
     "output_type": "stream",
     "text": [
      "{'color': 'green', 'point': 5}\n"
     ]
    }
   ],
   "source": [
    "alien = {'color':'green', 'point':5}\n",
    "print(alien)"
   ]
  },
  {
   "cell_type": "code",
   "execution_count": 3,
   "id": "2e050966-192b-4773-acc7-a3cdb3aa3aae",
   "metadata": {},
   "outputs": [
    {
     "data": {
      "text/plain": [
       "dict"
      ]
     },
     "execution_count": 3,
     "metadata": {},
     "output_type": "execute_result"
    }
   ],
   "source": [
    "type(alien)"
   ]
  },
  {
   "cell_type": "code",
   "execution_count": null,
   "id": "23350aa0-6101-4653-a760-64b34cf17d30",
   "metadata": {},
   "outputs": [],
   "source": [
    "# dictionary is written as dict \n",
    "# I want to add the start_position of the alien"
   ]
  },
  {
   "cell_type": "code",
   "execution_count": 5,
   "id": "e048d468-a71b-4e3a-8d7b-8c5229272053",
   "metadata": {},
   "outputs": [
    {
     "name": "stdout",
     "output_type": "stream",
     "text": [
      "{'color': 'green', 'point': 5, 'start_position': 'level'}\n"
     ]
    }
   ],
   "source": [
    "alien[\"start_position\"] = \"level\"\n",
    "print(alien)"
   ]
  },
  {
   "cell_type": "code",
   "execution_count": 6,
   "id": "0e84110c-de79-41e6-ab7b-d8eb913068df",
   "metadata": {},
   "outputs": [
    {
     "ename": "KeyError",
     "evalue": "0",
     "output_type": "error",
     "traceback": [
      "\u001b[1;31m---------------------------------------------------------------------------\u001b[0m",
      "\u001b[1;31mKeyError\u001b[0m                                  Traceback (most recent call last)",
      "Cell \u001b[1;32mIn[6], line 1\u001b[0m\n\u001b[1;32m----> 1\u001b[0m \u001b[38;5;28mprint\u001b[39m(alien[\u001b[38;5;241m0\u001b[39m])\n",
      "\u001b[1;31mKeyError\u001b[0m: 0"
     ]
    }
   ],
   "source": [
    "print(alien[0])\n"
   ]
  },
  {
   "cell_type": "code",
   "execution_count": 7,
   "id": "776a13d1-ae4a-4148-bd5f-111c08a1f820",
   "metadata": {},
   "outputs": [
    {
     "name": "stdout",
     "output_type": "stream",
     "text": [
      "green\n"
     ]
    }
   ],
   "source": [
    "print(alien['color'])"
   ]
  },
  {
   "cell_type": "code",
   "execution_count": null,
   "id": "1feee89b-4725-4295-8a97-8a9497fa761e",
   "metadata": {},
   "outputs": [],
   "source": [
    "# Req : how to modify the key value pairs in the dictionary..\n",
    "# req : I want to modify the color of the alien from green to red..."
   ]
  },
  {
   "cell_type": "code",
   "execution_count": 8,
   "id": "dbbd594f-cce0-40e6-a81f-47df94581e6d",
   "metadata": {},
   "outputs": [
    {
     "name": "stdout",
     "output_type": "stream",
     "text": [
      "{'color': 'red', 'point': 5, 'start_position': 'level'}\n"
     ]
    }
   ],
   "source": [
    "alien['color'] = 'red'\n",
    "print(alien)"
   ]
  },
  {
   "cell_type": "code",
   "execution_count": null,
   "id": "cb11aba2-89c4-4d45-812d-016508c177d9",
   "metadata": {},
   "outputs": [],
   "source": [
    "# req : I want to create the facebook user account."
   ]
  },
  {
   "cell_type": "code",
   "execution_count": 9,
   "id": "4efac96b-9413-4ca1-a674-946d232c9aea",
   "metadata": {},
   "outputs": [
    {
     "name": "stdout",
     "output_type": "stream",
     "text": [
      "{'firstname': 'code', 'lastname': 'training', 'username': 'codetrainingAcademy', 'dob': '01-01-2020', 'pwd': '54321'}\n"
     ]
    }
   ],
   "source": [
    "user_account = {'firstname':'code', 'lastname':'training', 'username':'codetrainingAcademy', 'dob':'01-01-2020', 'pwd':'54321'}\n",
    "print(user_account)"
   ]
  },
  {
   "cell_type": "code",
   "execution_count": null,
   "id": "940c36f3-4c72-4ba7-9668-4b1021576004",
   "metadata": {},
   "outputs": [],
   "source": [
    "# how to delete the key value pairs\n",
    "#req : I want to delete lastname"
   ]
  },
  {
   "cell_type": "code",
   "execution_count": 10,
   "id": "2116a1f0-4dfd-4fa1-b024-3ef937b2ca77",
   "metadata": {},
   "outputs": [
    {
     "name": "stdout",
     "output_type": "stream",
     "text": [
      "{'firstname': 'code', 'username': 'codetrainingAcademy', 'dob': '01-01-2020', 'pwd': '54321'}\n"
     ]
    }
   ],
   "source": [
    "del user_account['lastname']\n",
    "print(user_account)"
   ]
  },
  {
   "cell_type": "code",
   "execution_count": null,
   "id": "05e71732-cd99-410d-800f-fed52052ea9b",
   "metadata": {},
   "outputs": [],
   "source": []
  },
  {
   "cell_type": "code",
   "execution_count": null,
   "id": "b28aab78-0e77-4573-b297-0c052fb16a22",
   "metadata": {},
   "outputs": [],
   "source": [
    "Introduction to looping statement :"
   ]
  },
  {
   "cell_type": "code",
   "execution_count": 11,
   "id": "21442a61-e689-4da5-9435-7d0036f56472",
   "metadata": {},
   "outputs": [
    {
     "name": "stdout",
     "output_type": "stream",
     "text": [
      "keep up the good work, Durga\n"
     ]
    }
   ],
   "source": [
    "students = ['durga', 'dinesh', 'kavya', 'noor', 'raza', 'abid', 'smith']\n",
    "print(f\"keep up the good work, {students[0].title()}\")"
   ]
  },
  {
   "cell_type": "code",
   "execution_count": 12,
   "id": "89c8968a-47f9-4dc5-bfb6-0df59dec5357",
   "metadata": {},
   "outputs": [
    {
     "name": "stdout",
     "output_type": "stream",
     "text": [
      "keep up the good work, Dinesh\n"
     ]
    }
   ],
   "source": [
    "print(f\"keep up the good work, {students[1].title()}\")"
   ]
  },
  {
   "cell_type": "code",
   "execution_count": 13,
   "id": "d4fd6773-46ed-4b19-89ad-a3b9cacf5ab0",
   "metadata": {},
   "outputs": [
    {
     "name": "stdout",
     "output_type": "stream",
     "text": [
      "keep up the good work, Noor\n"
     ]
    }
   ],
   "source": [
    "print(f\"keep up the good work, {students[3].title()}\")"
   ]
  },
  {
   "cell_type": "code",
   "execution_count": 14,
   "id": "740aa47b-0bf4-4e38-8dcd-f36b8af2c001",
   "metadata": {},
   "outputs": [
    {
     "name": "stdout",
     "output_type": "stream",
     "text": [
      "keep up the good work, Abid\n"
     ]
    }
   ],
   "source": [
    "print(f\"keep up the good work, {students[5].title()}\")"
   ]
  },
  {
   "cell_type": "code",
   "execution_count": null,
   "id": "5b44f23f-d487-4127-8413-06b4239f0610",
   "metadata": {},
   "outputs": [],
   "source": [
    "Introduction for loop: "
   ]
  },
  {
   "cell_type": "code",
   "execution_count": 15,
   "id": "41b28a84-60f2-48a9-8788-f764efb8f325",
   "metadata": {},
   "outputs": [
    {
     "ename": "NameError",
     "evalue": "name 'mainvar' is not defined",
     "output_type": "error",
     "traceback": [
      "\u001b[1;31m---------------------------------------------------------------------------\u001b[0m",
      "\u001b[1;31mNameError\u001b[0m                                 Traceback (most recent call last)",
      "Cell \u001b[1;32mIn[15], line 3\u001b[0m\n\u001b[0;32m      1\u001b[0m \u001b[38;5;66;03m# general syntax of for loop\u001b[39;00m\n\u001b[1;32m----> 3\u001b[0m \u001b[38;5;28;01mfor\u001b[39;00m tempvar \u001b[38;5;129;01min\u001b[39;00m mainvar:\n\u001b[0;32m      4\u001b[0m     \u001b[38;5;28mprint\u001b[39m(tempvar)\n",
      "\u001b[1;31mNameError\u001b[0m: name 'mainvar' is not defined"
     ]
    }
   ],
   "source": [
    "# general syntax of for loop\n",
    "\n",
    "for tempvar in mainvar:\n",
    "    print(tempvar)"
   ]
  },
  {
   "cell_type": "code",
   "execution_count": 16,
   "id": "682fb6a4-8db2-4b2b-a691-84b8eb9dcace",
   "metadata": {},
   "outputs": [
    {
     "name": "stdout",
     "output_type": "stream",
     "text": [
      "keep up the good work, Durga\n",
      "keep up the good work, Dinesh\n",
      "keep up the good work, Kavya\n",
      "keep up the good work, Noor\n",
      "keep up the good work, Raza\n",
      "keep up the good work, Abid\n",
      "keep up the good work, Smith\n"
     ]
    }
   ],
   "source": [
    "for x in students:\n",
    "    print(f\"keep up the good work, {x.title()}\")"
   ]
  },
  {
   "cell_type": "code",
   "execution_count": 17,
   "id": "182300a2-919a-46e8-9c81-de7970123f61",
   "metadata": {},
   "outputs": [
    {
     "name": "stdout",
     "output_type": "stream",
     "text": [
      "durga\n",
      "dinesh\n",
      "kavya\n",
      "noor\n",
      "raza\n",
      "abid\n",
      "smith\n"
     ]
    }
   ],
   "source": [
    "for a in students:\n",
    "    print(a)"
   ]
  },
  {
   "cell_type": "code",
   "execution_count": null,
   "id": "be20325a-44b9-48b7-8bd4-54461e1721ba",
   "metadata": {},
   "outputs": [],
   "source": []
  }
 ],
 "metadata": {
  "kernelspec": {
   "display_name": "Python [conda env:base] *",
   "language": "python",
   "name": "conda-base-py"
  },
  "language_info": {
   "codemirror_mode": {
    "name": "ipython",
    "version": 3
   },
   "file_extension": ".py",
   "mimetype": "text/x-python",
   "name": "python",
   "nbconvert_exporter": "python",
   "pygments_lexer": "ipython3",
   "version": "3.13.5"
  }
 },
 "nbformat": 4,
 "nbformat_minor": 5
}
