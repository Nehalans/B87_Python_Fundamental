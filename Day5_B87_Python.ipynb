{
 "cells": [
  {
   "cell_type": "code",
   "execution_count": null,
   "id": "af5a9370-952f-42e6-b247-1ba90f2ffdff",
   "metadata": {},
   "outputs": [],
   "source": [
    "continuation with list datatype:"
   ]
  },
  {
   "cell_type": "code",
   "execution_count": null,
   "id": "bec3869e-d9d9-4575-8c17-caa78bb58035",
   "metadata": {},
   "outputs": [],
   "source": []
  },
  {
   "cell_type": "code",
   "execution_count": null,
   "id": "d137e4b8-4942-47cd-a7f8-51694501f04f",
   "metadata": {},
   "outputs": [],
   "source": [
    "Organising the list datatype :"
   ]
  },
  {
   "cell_type": "code",
   "execution_count": null,
   "id": "b793314f-e999-4d8f-a8d7-50ce3f96deff",
   "metadata": {},
   "outputs": [],
   "source": []
  },
  {
   "cell_type": "code",
   "execution_count": 1,
   "id": "472bb291-593e-48ba-aab3-1bb379abcd5f",
   "metadata": {},
   "outputs": [
    {
     "name": "stdout",
     "output_type": "stream",
     "text": [
      "['bmw', 'tata', 'audi', 'toyata', 'benz']\n"
     ]
    }
   ],
   "source": [
    "cars = ['bmw', 'tata', 'audi', 'toyata', 'benz']\n",
    "print(cars)"
   ]
  },
  {
   "cell_type": "code",
   "execution_count": 2,
   "id": "4c362989-f584-462d-893e-01aaa0742c0d",
   "metadata": {},
   "outputs": [
    {
     "data": {
      "text/plain": [
       "list"
      ]
     },
     "execution_count": 2,
     "metadata": {},
     "output_type": "execute_result"
    }
   ],
   "source": [
    "type(cars)"
   ]
  },
  {
   "cell_type": "code",
   "execution_count": null,
   "id": "2a04f1ac-762e-4ea8-b758-d94c7f25bc08",
   "metadata": {},
   "outputs": [],
   "source": [
    "# req : I want to organise the list in alphabetical order..."
   ]
  },
  {
   "cell_type": "code",
   "execution_count": null,
   "id": "6f73db72-329c-43c1-a48b-e7835bbd0827",
   "metadata": {},
   "outputs": [],
   "source": [
    "A, B, C, D"
   ]
  },
  {
   "cell_type": "code",
   "execution_count": null,
   "id": "fe4a1bed-9b9a-4409-957b-9a54df3ab1cc",
   "metadata": {},
   "outputs": [],
   "source": [
    "there are two approches :\n",
    "1. temporary approch ====> sorted method \n",
    "2. permanent approch ====> sort method "
   ]
  },
  {
   "cell_type": "code",
   "execution_count": 3,
   "id": "cb7beae3-235b-4297-bed3-e899810d5316",
   "metadata": {},
   "outputs": [
    {
     "name": "stdout",
     "output_type": "stream",
     "text": [
      "['audi', 'benz', 'bmw', 'tata', 'toyata']\n"
     ]
    }
   ],
   "source": [
    "print(sorted(cars))"
   ]
  },
  {
   "cell_type": "code",
   "execution_count": 4,
   "id": "0e3f2b29-8d97-4370-8699-0eea6a02a224",
   "metadata": {},
   "outputs": [
    {
     "name": "stdout",
     "output_type": "stream",
     "text": [
      "['bmw', 'tata', 'audi', 'toyata', 'benz']\n"
     ]
    }
   ],
   "source": [
    "print(cars)   #this is the original order.."
   ]
  },
  {
   "cell_type": "code",
   "execution_count": 6,
   "id": "e245b2e3-a2be-40fe-b78b-b54c9ed0f9fc",
   "metadata": {},
   "outputs": [
    {
     "name": "stdout",
     "output_type": "stream",
     "text": [
      "['audi', 'benz', 'bmw', 'tata', 'toyata']\n"
     ]
    }
   ],
   "source": [
    "cars.sort()\n",
    "print(cars)"
   ]
  },
  {
   "cell_type": "code",
   "execution_count": null,
   "id": "43d69c92-ff22-46c7-ba31-b2d1a7e32f49",
   "metadata": {},
   "outputs": [],
   "source": [
    "Interview_question : what is the difference between sorted and sort method in a list datatype?"
   ]
  },
  {
   "cell_type": "code",
   "execution_count": null,
   "id": "0da7298a-aeca-448b-8cc3-692042c88624",
   "metadata": {},
   "outputs": [],
   "source": []
  },
  {
   "cell_type": "code",
   "execution_count": null,
   "id": "1ffb982a-dcfc-4fc9-be3b-93c9f0b71147",
   "metadata": {},
   "outputs": [],
   "source": [
    "# I want to count the no of elements in the list.."
   ]
  },
  {
   "cell_type": "code",
   "execution_count": 7,
   "id": "1179ebbf-bccf-4528-a133-f7a1365f3694",
   "metadata": {},
   "outputs": [
    {
     "data": {
      "text/plain": [
       "5"
      ]
     },
     "execution_count": 7,
     "metadata": {},
     "output_type": "execute_result"
    }
   ],
   "source": [
    "len(cars)"
   ]
  },
  {
   "cell_type": "code",
   "execution_count": null,
   "id": "d204babd-a4e6-425b-b995-a2dfbe508968",
   "metadata": {},
   "outputs": [],
   "source": [
    "# I want to print the list in the A - Z, Z - A"
   ]
  },
  {
   "cell_type": "code",
   "execution_count": 8,
   "id": "7340243e-0e01-440c-a045-460880f5638d",
   "metadata": {},
   "outputs": [],
   "source": [
    "cars.reverse()"
   ]
  },
  {
   "cell_type": "code",
   "execution_count": 9,
   "id": "c1074712-3826-4970-aa18-8e0fc71cc923",
   "metadata": {},
   "outputs": [
    {
     "name": "stdout",
     "output_type": "stream",
     "text": [
      "['toyata', 'tata', 'bmw', 'benz', 'audi']\n"
     ]
    }
   ],
   "source": [
    "print(cars)"
   ]
  },
  {
   "cell_type": "code",
   "execution_count": null,
   "id": "c2d499f9-d008-4b92-91db-7c03c1860e20",
   "metadata": {},
   "outputs": [],
   "source": [
    "# it is used for commenting the code.."
   ]
  },
  {
   "cell_type": "code",
   "execution_count": null,
   "id": "03c8c320-aa3b-4e08-a380-afde4d8d6003",
   "metadata": {},
   "outputs": [],
   "source": []
  },
  {
   "cell_type": "code",
   "execution_count": null,
   "id": "4b062328-b027-4c2f-9153-7c24f1917b34",
   "metadata": {},
   "outputs": [],
   "source": [
    "Introduction to slicing : "
   ]
  },
  {
   "cell_type": "code",
   "execution_count": null,
   "id": "3d4192fb-7408-4acc-82b8-7d1891ab32cf",
   "metadata": {},
   "outputs": [],
   "source": []
  },
  {
   "cell_type": "code",
   "execution_count": 11,
   "id": "56dd0ebd-3927-402c-a91f-bf3fcfa6ec82",
   "metadata": {},
   "outputs": [
    {
     "name": "stdout",
     "output_type": "stream",
     "text": [
      "['ankita', 'arpita', 'bhushan', 'bhanu', 'chandra', 'danish']\n"
     ]
    }
   ],
   "source": [
    "students = ['ankita', 'arpita', 'bhushan', 'bhanu', 'chandra', 'danish']\n",
    "print(students)"
   ]
  },
  {
   "cell_type": "code",
   "execution_count": null,
   "id": "52aedaa0-747c-4749-ae02-1561b71b10a5",
   "metadata": {},
   "outputs": [],
   "source": [
    "# general syntax for slicing : "
   ]
  },
  {
   "cell_type": "code",
   "execution_count": null,
   "id": "cb211eeb-004a-4970-a452-a0e1e7948abd",
   "metadata": {},
   "outputs": [],
   "source": [
    "[start_value:stop_value: step_count]"
   ]
  },
  {
   "cell_type": "code",
   "execution_count": null,
   "id": "3c355373-33f3-488c-980e-230337144f83",
   "metadata": {},
   "outputs": [],
   "source": [
    "Note : stop is always exclusive, to include the stop value increment the index by +1."
   ]
  },
  {
   "cell_type": "code",
   "execution_count": null,
   "id": "a8b0c1d9-18f9-4bb3-975c-3ec278965a8b",
   "metadata": {},
   "outputs": [],
   "source": []
  },
  {
   "cell_type": "code",
   "execution_count": null,
   "id": "db6d67b5-3539-48d2-acd2-5479a08fff6c",
   "metadata": {},
   "outputs": [],
   "source": [
    "# I want to include ankita and arpita in the slice."
   ]
  },
  {
   "cell_type": "code",
   "execution_count": 12,
   "id": "8af5a8b2-5e97-41ed-89cf-567b03438356",
   "metadata": {},
   "outputs": [
    {
     "name": "stdout",
     "output_type": "stream",
     "text": [
      "['ankita']\n"
     ]
    }
   ],
   "source": [
    "print(students[0:1])"
   ]
  },
  {
   "cell_type": "code",
   "execution_count": 13,
   "id": "f8c4a4cd-39c9-4291-a669-70e4887a0e66",
   "metadata": {},
   "outputs": [
    {
     "name": "stdout",
     "output_type": "stream",
     "text": [
      "['ankita', 'arpita']\n"
     ]
    }
   ],
   "source": [
    "print(students[0:2])"
   ]
  },
  {
   "cell_type": "code",
   "execution_count": null,
   "id": "ef089cde-ba15-4907-90c2-271f95a98296",
   "metadata": {},
   "outputs": [],
   "source": [
    "# req: bhushan and bhanu"
   ]
  },
  {
   "cell_type": "code",
   "execution_count": 14,
   "id": "7060eeb8-3144-4870-856e-f2ecf1be6325",
   "metadata": {},
   "outputs": [
    {
     "name": "stdout",
     "output_type": "stream",
     "text": [
      "['bhushan', 'bhanu']\n"
     ]
    }
   ],
   "source": [
    "print(students[2:4])"
   ]
  },
  {
   "cell_type": "code",
   "execution_count": 18,
   "id": "c97d570f-9ee9-4a30-af4b-86bb248fc4f0",
   "metadata": {},
   "outputs": [
    {
     "name": "stdout",
     "output_type": "stream",
     "text": [
      "['ankita', 'bhushan', 'chandra']\n"
     ]
    }
   ],
   "source": [
    "print(students[0:7:2])"
   ]
  },
  {
   "cell_type": "code",
   "execution_count": 19,
   "id": "25db08d5-950f-4072-aded-efc454a1f199",
   "metadata": {},
   "outputs": [
    {
     "name": "stdout",
     "output_type": "stream",
     "text": [
      "['ankita', 'bhushan', 'chandra']\n"
     ]
    }
   ],
   "source": [
    "print(students[0:5:2])"
   ]
  },
  {
   "cell_type": "code",
   "execution_count": 20,
   "id": "25ceb223-e140-4653-aaba-687ef134405d",
   "metadata": {},
   "outputs": [
    {
     "name": "stdout",
     "output_type": "stream",
     "text": [
      "['ankita', 'arpita', 'bhushan', 'bhanu', 'chandra', 'danish']\n"
     ]
    }
   ],
   "source": [
    "print(students)"
   ]
  },
  {
   "cell_type": "code",
   "execution_count": null,
   "id": "2c657a20-3a1f-4cec-82e6-a8119c6a8dc3",
   "metadata": {},
   "outputs": [],
   "source": []
  }
 ],
 "metadata": {
  "kernelspec": {
   "display_name": "Python [conda env:base] *",
   "language": "python",
   "name": "conda-base-py"
  },
  "language_info": {
   "codemirror_mode": {
    "name": "ipython",
    "version": 3
   },
   "file_extension": ".py",
   "mimetype": "text/x-python",
   "name": "python",
   "nbconvert_exporter": "python",
   "pygments_lexer": "ipython3",
   "version": "3.13.5"
  }
 },
 "nbformat": 4,
 "nbformat_minor": 5
}
