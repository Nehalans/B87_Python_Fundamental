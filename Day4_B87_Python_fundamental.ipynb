{
 "cells": [
  {
   "cell_type": "code",
   "execution_count": 1,
   "id": "5309ca3a-0479-4ee7-97af-6ba19e631a42",
   "metadata": {},
   "outputs": [
    {
     "name": "stdout",
     "output_type": "stream",
     "text": [
      "123\n"
     ]
    }
   ],
   "source": [
    "number = 123\n",
    "print(number)"
   ]
  },
  {
   "cell_type": "code",
   "execution_count": 2,
   "id": "ce098b78-0ca2-413c-b13d-ce8608579b85",
   "metadata": {},
   "outputs": [
    {
     "data": {
      "text/plain": [
       "int"
      ]
     },
     "execution_count": 2,
     "metadata": {},
     "output_type": "execute_result"
    }
   ],
   "source": [
    "type(number)"
   ]
  },
  {
   "cell_type": "code",
   "execution_count": 3,
   "id": "4ac612e6-5e46-4979-bb3b-ea54f49353aa",
   "metadata": {},
   "outputs": [
    {
     "data": {
      "text/plain": [
       "float"
      ]
     },
     "execution_count": 3,
     "metadata": {},
     "output_type": "execute_result"
    }
   ],
   "source": [
    "num2 = 0.23\n",
    "type(num2)"
   ]
  },
  {
   "cell_type": "code",
   "execution_count": 5,
   "id": "c1793a1c-b74f-4fb9-959e-3404ea1406f6",
   "metadata": {},
   "outputs": [
    {
     "ename": "SyntaxError",
     "evalue": "invalid syntax (1808138867.py, line 1)",
     "output_type": "error",
     "traceback": [
      "\u001b[1;36m  Cell \u001b[1;32mIn[5], line 1\u001b[1;36m\u001b[0m\n\u001b[1;33m    Introduction to list datatype:\u001b[0m\n\u001b[1;37m                 ^\u001b[0m\n\u001b[1;31mSyntaxError\u001b[0m\u001b[1;31m:\u001b[0m invalid syntax\n"
     ]
    }
   ],
   "source": [
    "Introduction to list datatype:\n",
    "A list is a collection of item defined in a particular order\n",
    "It is classified as mutable datatype( which we can edit/ alter)\n",
    "HOW TO DEFINE LIST DATATYPE: [] # in a square bracket"
   ]
  },
  {
   "cell_type": "code",
   "execution_count": 6,
   "id": "e8e49233-4cc8-4923-827d-e6c33434a5ab",
   "metadata": {},
   "outputs": [
    {
     "name": "stdout",
     "output_type": "stream",
     "text": [
      "['arpita', 'ashwini', 'asma', 'bhuvan', 'david', 'karthik']\n"
     ]
    }
   ],
   "source": [
    "Students = [ 'arpita', 'ashwini', 'asma', 'bhuvan', 'david', 'karthik'] # [0,1,2,3,4,5] this is the numbering order\n",
    "print(Students)"
   ]
  },
  {
   "cell_type": "code",
   "execution_count": 7,
   "id": "e6a16733-2555-40d9-bff7-d53e5aef9620",
   "metadata": {},
   "outputs": [
    {
     "data": {
      "text/plain": [
       "list"
      ]
     },
     "execution_count": 7,
     "metadata": {},
     "output_type": "execute_result"
    }
   ],
   "source": [
    "type(Students)"
   ]
  },
  {
   "cell_type": "code",
   "execution_count": null,
   "id": "b93d8bac-505b-4330-9ef1-d122424f0ab9",
   "metadata": {},
   "outputs": [],
   "source": [
    "Introduction of indexing : 0,1,2,3,4,5,.......nth number\n",
    "    "
   ]
  },
  {
   "cell_type": "code",
   "execution_count": 9,
   "id": "cd3993ee-5fe6-4ee8-a606-606ea9bb4e4b",
   "metadata": {},
   "outputs": [
    {
     "name": "stdout",
     "output_type": "stream",
     "text": [
      "ashwini\n"
     ]
    }
   ],
   "source": [
    "print(Students[1])"
   ]
  },
  {
   "cell_type": "code",
   "execution_count": 10,
   "id": "e58f9a4d-27f7-487f-af47-74ac9a921c42",
   "metadata": {},
   "outputs": [
    {
     "name": "stdout",
     "output_type": "stream",
     "text": [
      "arpita\n"
     ]
    }
   ],
   "source": [
    "print(Students[0])"
   ]
  },
  {
   "cell_type": "code",
   "execution_count": 12,
   "id": "99fb929e-97a5-4034-a1b7-8974c6d208fe",
   "metadata": {},
   "outputs": [
    {
     "name": "stdout",
     "output_type": "stream",
     "text": [
      "david\n"
     ]
    }
   ],
   "source": [
    "print(Students[4])"
   ]
  },
  {
   "cell_type": "code",
   "execution_count": null,
   "id": "b9435000-fd70-49f3-83c9-0329491d3a8c",
   "metadata": {},
   "outputs": [],
   "source": [
    "# I want to add venkat to the above list"
   ]
  },
  {
   "cell_type": "code",
   "execution_count": 17,
   "id": "353e843d-f395-4e28-ad95-affc86cf0743",
   "metadata": {},
   "outputs": [
    {
     "ename": "NameError",
     "evalue": "name 'students' is not defined",
     "output_type": "error",
     "traceback": [
      "\u001b[1;31m---------------------------------------------------------------------------\u001b[0m",
      "\u001b[1;31mNameError\u001b[0m                                 Traceback (most recent call last)",
      "Cell \u001b[1;32mIn[17], line 1\u001b[0m\n\u001b[1;32m----> 1\u001b[0m students\u001b[38;5;241m.\u001b[39mappend(\u001b[38;5;124m'\u001b[39m\u001b[38;5;124mvenkat\u001b[39m\u001b[38;5;124m'\u001b[39m)\n",
      "\u001b[1;31mNameError\u001b[0m: name 'students' is not defined"
     ]
    }
   ],
   "source": [
    "students.append('venkat')"
   ]
  },
  {
   "cell_type": "code",
   "execution_count": 15,
   "id": "906dbb5c-568f-4e83-bdb0-37f02b82f8df",
   "metadata": {},
   "outputs": [],
   "source": [
    "Students.append('venkat')"
   ]
  },
  {
   "cell_type": "code",
   "execution_count": 16,
   "id": "9db83c60-6413-4b5c-9fed-57b6fbc6bf55",
   "metadata": {},
   "outputs": [
    {
     "name": "stdout",
     "output_type": "stream",
     "text": [
      "['arpita', 'ashwini', 'asma', 'bhuvan', 'david', 'karthik', 'venkat']\n"
     ]
    }
   ],
   "source": [
    "print(Students)\n"
   ]
  },
  {
   "cell_type": "code",
   "execution_count": 20,
   "id": "3431d8ab-9807-455c-b14a-9e9fec58daa2",
   "metadata": {},
   "outputs": [],
   "source": [
    "Students.insert(3, 'kaleem') # req: want to add 'kaleem' to 3rd index position"
   ]
  },
  {
   "cell_type": "code",
   "execution_count": 19,
   "id": "bfa5363d-aada-4940-95c4-f9e08af971f4",
   "metadata": {},
   "outputs": [
    {
     "name": "stdout",
     "output_type": "stream",
     "text": [
      "['arpita', 'ashwini', 'asma', 'kaleem', 'bhuvan', 'david', 'karthik', 'venkat']\n"
     ]
    }
   ],
   "source": [
    "print(Students)"
   ]
  },
  {
   "cell_type": "code",
   "execution_count": null,
   "id": "c851a81f-ef02-4b00-99c7-b7dbf371108f",
   "metadata": {},
   "outputs": [],
   "source": [
    "# what is the difference between append and insert?\n",
    "# append used to add an element to the list while insert used to add an element at a specific position of list,\n",
    "#it takes two argument(the index where you want to insert the item and item itself  . "
   ]
  },
  {
   "cell_type": "code",
   "execution_count": 21,
   "id": "94f48af7-5a9e-45ca-b017-5a33a68a62f0",
   "metadata": {},
   "outputs": [],
   "source": [
    "Students = [ 'arpita', 'ashwini', 'asma', 'bhuvan', 'david', 'karthik'] # want to modify arpita name to anand\n",
    "Students[0] = 'anand'"
   ]
  },
  {
   "cell_type": "code",
   "execution_count": 22,
   "id": "840475b2-0041-48d1-83fe-4be095edd392",
   "metadata": {},
   "outputs": [
    {
     "name": "stdout",
     "output_type": "stream",
     "text": [
      "['anand', 'ashwini', 'asma', 'bhuvan', 'david', 'karthik']\n"
     ]
    }
   ],
   "source": [
    "print(Students)\n"
   ]
  },
  {
   "cell_type": "code",
   "execution_count": 25,
   "id": "479c4509-f467-4b3b-b4d6-6f49a36425bf",
   "metadata": {},
   "outputs": [
    {
     "name": "stdout",
     "output_type": "stream",
     "text": [
      "brijesh\n"
     ]
    }
   ],
   "source": [
    "Students = 'bhuvan'   # I want to modify a string\n",
    "Students = Students.replace('bhuvan', 'brijesh')\n",
    "print(Students)"
   ]
  },
  {
   "cell_type": "code",
   "execution_count": 26,
   "id": "42ce2ea3-e1c4-4299-b35e-200368136cad",
   "metadata": {},
   "outputs": [
    {
     "name": "stdout",
     "output_type": "stream",
     "text": [
      "brijesh\n"
     ]
    }
   ],
   "source": [
    "print(Students)"
   ]
  },
  {
   "cell_type": "code",
   "execution_count": null,
   "id": "c699b4c3-220e-4be5-86d5-344d1721e700",
   "metadata": {},
   "outputs": [],
   "source": []
  },
  {
   "cell_type": "code",
   "execution_count": null,
   "id": "102c184e-ee56-4755-8347-94c3bb810195",
   "metadata": {},
   "outputs": [],
   "source": []
  }
 ],
 "metadata": {
  "kernelspec": {
   "display_name": "Python [conda env:base] *",
   "language": "python",
   "name": "conda-base-py"
  },
  "language_info": {
   "codemirror_mode": {
    "name": "ipython",
    "version": 3
   },
   "file_extension": ".py",
   "mimetype": "text/x-python",
   "name": "python",
   "nbconvert_exporter": "python",
   "pygments_lexer": "ipython3",
   "version": "3.13.5"
  }
 },
 "nbformat": 4,
 "nbformat_minor": 5
}
